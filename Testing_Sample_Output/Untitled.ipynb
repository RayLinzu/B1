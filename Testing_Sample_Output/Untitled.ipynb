{
 "cells": [
  {
   "cell_type": "code",
   "execution_count": 1,
   "id": "1399de5c",
   "metadata": {},
   "outputs": [],
   "source": [
    "tlID_fixed_list = ['TL_01', 'TL_05', 'TL_06', 'TL_07']"
   ]
  },
  {
   "cell_type": "code",
   "execution_count": 9,
   "id": "99fd88ba",
   "metadata": {},
   "outputs": [
    {
     "name": "stdout",
     "output_type": "stream",
     "text": [
      "TL_01\n",
      "TL_05\n",
      "TL_06\n",
      "TL_07\n"
     ]
    }
   ],
   "source": [
    "for idx,fixed_tl in enumerate(tlID_fixed_list):\n",
    "    print(fixed_tl)"
   ]
  },
  {
   "cell_type": "code",
   "execution_count": 1,
   "id": "54db7e0c",
   "metadata": {},
   "outputs": [
    {
     "name": "stdout",
     "output_type": "stream",
     "text": [
      "[1, 1, 1]\n"
     ]
    }
   ],
   "source": [
    "x = [1]*3\n",
    "print(x)"
   ]
  },
  {
   "cell_type": "code",
   "execution_count": 12,
   "id": "93195681",
   "metadata": {},
   "outputs": [],
   "source": [
    "def demo1():\n",
    "    print(\"Here no local variable  is present : \", locals())\n",
    " \n",
    "def demo2():\n",
    "    x = 'Jusitn'\n",
    "    print(\"Here local variables are present : \", locals())\n",
    "\n",
    "# here local variables are present\n",
    "def demo3():\n",
    "    locals()[\"actors1\"] = \"Ankit\"\n",
    "    print(\"Here local variables are present : \", locals())"
   ]
  },
  {
   "cell_type": "code",
   "execution_count": 13,
   "id": "c11d185b",
   "metadata": {},
   "outputs": [
    {
     "name": "stdout",
     "output_type": "stream",
     "text": [
      "Here no local variable  is present :  {}\n"
     ]
    }
   ],
   "source": [
    "demo1()"
   ]
  },
  {
   "cell_type": "code",
   "execution_count": 17,
   "id": "e9348b82",
   "metadata": {},
   "outputs": [
    {
     "name": "stdout",
     "output_type": "stream",
     "text": [
      "Here local variables are present :  {'x': 'Jusitn'}\n"
     ]
    }
   ],
   "source": [
    "demo2()"
   ]
  },
  {
   "cell_type": "code",
   "execution_count": 18,
   "id": "f991cf71",
   "metadata": {},
   "outputs": [
    {
     "name": "stdout",
     "output_type": "stream",
     "text": [
      "Here local variables are present :  {'actors1': 'Ankit'}\n"
     ]
    }
   ],
   "source": [
    "demo3()"
   ]
  },
  {
   "cell_type": "code",
   "execution_count": 1,
   "id": "1253bf9b",
   "metadata": {},
   "outputs": [
    {
     "name": "stdout",
     "output_type": "stream",
     "text": [
      "4\n"
     ]
    }
   ],
   "source": [
    "a = [1,2,3,4]\n",
    "\n",
    "print(a.pop())"
   ]
  },
  {
   "cell_type": "code",
   "execution_count": 2,
   "id": "58ce1bc2",
   "metadata": {},
   "outputs": [
    {
     "name": "stdout",
     "output_type": "stream",
     "text": [
      "[1, 2, 3]\n"
     ]
    }
   ],
   "source": [
    "print(a)"
   ]
  },
  {
   "cell_type": "code",
   "execution_count": 5,
   "id": "c5bfed83",
   "metadata": {},
   "outputs": [],
   "source": [
    "import os\n",
    "import pickle"
   ]
  },
  {
   "cell_type": "code",
   "execution_count": 6,
   "id": "9e21d4c4",
   "metadata": {},
   "outputs": [
    {
     "name": "stdout",
     "output_type": "stream",
     "text": [
      "2\n",
      "D:\\Sumo_Testing\\SUMO_IOT_Taipei_testing\\B1\\rl_Intersection_x2_Data.pkl\n",
      "D:\\Sumo_Testing\\SUMO_IOT_Taipei_testing\\B1\\rl_Intersection_x2_Data.pklSaved\n",
      "3\n",
      "D:\\Sumo_Testing\\SUMO_IOT_Taipei_testing\\B1\\rl_Intersection_x3_Data.pkl\n",
      "D:\\Sumo_Testing\\SUMO_IOT_Taipei_testing\\B1\\rl_Intersection_x3_Data.pklSaved\n",
      "4\n",
      "D:\\Sumo_Testing\\SUMO_IOT_Taipei_testing\\B1\\rl_Intersection_x4_Data.pkl\n",
      "D:\\Sumo_Testing\\SUMO_IOT_Taipei_testing\\B1\\rl_Intersection_x4_Data.pklSaved\n"
     ]
    }
   ],
   "source": [
    "file_path = os.getcwd()+'\\\\'\n",
    "for i in range(2,5):\n",
    "    print(i)\n",
    "    print(file_path+'rl_Intersection_x'+str(i)+'_Data.pkl')\n",
    "    print(file_path+'rl_Intersection_x'+str(i)+'_Data.pkl' 'Saved')"
   ]
  },
  {
   "cell_type": "code",
   "execution_count": 7,
   "id": "cb923c6b",
   "metadata": {},
   "outputs": [
    {
     "name": "stdout",
     "output_type": "stream",
     "text": [
      "[array([ 0,  1,  1,  0,  2,  0,  0,  1,  2,  0,  9,  2,  2, 20,  9,  0,  1,\n",
      "        0,  0,  0,  0,  0,  6,  2,  0, 13,  6,  0,  7,  4,  0,  4,  2,  0,\n",
      "        4,  7,  0,  0,  0,  0,  1,  5,  0,  2,  0,  0,  2,  0,  1,  1,  4,\n",
      "        0, 15, 11]), array([ 0,  1,  1,  0,  2,  0,  0,  1,  2,  0,  9,  2,  2, 20,  9,  0,  1,\n",
      "        0,  0,  0,  0,  0,  6,  2,  0, 13,  6,  0,  7,  4,  0,  4,  2,  0,\n",
      "        4,  7,  0,  0,  0,  0,  1,  5,  0,  2,  0,  0,  2,  0,  1,  1,  4,\n",
      "        0, 15, 11]), array([ 0,  1,  1,  0,  2,  0,  0,  1,  2,  0,  9,  2,  2, 20,  9,  0,  1,\n",
      "        0,  0,  0,  0,  0,  6,  2,  0, 13,  6,  0,  7,  4,  0,  4,  2,  0,\n",
      "        4,  7,  0,  0,  0,  0,  1,  5,  0,  2,  0,  0,  2,  0,  1,  1,  4,\n",
      "        0, 15, 11])] \n",
      "\n",
      "[ 0  1  1  0  2  0  0  1  2  0  9  2  2 20  9  0  1  0  0  0  0  0  6  2\n",
      "  0 13  6  0  7  4  0  4  2  0  4  7  0  0  0  0  1  5  0  2  0  0  2  0\n",
      "  1  1  4  0 15 11] \n",
      "\n",
      "[ 0  1  1  0  2  0  0  1  2  0  9  2  2 20  9  0  1  0  0  0  0  0  6  2\n",
      "  0 13  6  0  7  4  0  4  2  0  4  7  0  0  0  0  1  5  0  2  0  0  2  0\n",
      "  1  1  4  0 15 11] \n",
      "\n",
      "[ 0  1  1  0  2  0  0  1  2  0  9  2  2 20  9  0  1  0  0  0  0  0  6  2\n",
      "  0 13  6  0  7  4  0  4  2  0  4  7  0  0  0  0  1  5  0  2  0  0  2  0\n",
      "  1  1  4  0 15 11]\n"
     ]
    }
   ],
   "source": [
    "with open('rl_Intersection_Data.pkl', 'rb') as file:\n",
    "    loaded_data_all = pickle.load(file)\n",
    "\n",
    "# Access the loaded data\n",
    "# state_list = loaded_data['states']\n",
    "# action_list = loaded_data['actions']\n",
    "# reward_list = loaded_data['rewards']\n",
    "print(loaded_data_all,'\\n')\n",
    "print(loaded_data_all[0],'\\n')\n",
    "print(loaded_data_all[1],'\\n')\n",
    "print(loaded_data_all[2])"
   ]
  },
  {
   "cell_type": "code",
   "execution_count": 9,
   "id": "c92f30d1",
   "metadata": {},
   "outputs": [
    {
     "name": "stdout",
     "output_type": "stream",
     "text": [
      "[0 0 0 0 0 0 0 2 2 0 1 1 0 1 0 0 0 0 0 0 0 0 0 0 0 0 0 0 1 0 0 0 0 0 0 0 0\n",
      " 0 0 0 2 0 0 2 2 0 1 2 0 2 0 0 0 0 0 0 0 0 0 0 0 2 2 0 1 1 0 1 0 0 0 0 0 0\n",
      " 0 0 0 0 0 0 0 0 1 0 0 0 0 0 0 0 0 0 0 0 2 0 0 2 2 0 1 2 0 2 0 0 0 0 0 0 0\n",
      " 0 0 0 0 2 2 0 1 1 0 1 0 0 0 0 0 0 0 0 0 0 0 0 0 0 1 0 0 0 0 0 0 0 0 0 0 0\n",
      " 2 0]\n",
      "[0 0 0 0 0 0 0 2 2 0 1 1 0 1 0 0 0 0 0 0 0 0 0 0 0 0 0 0 1 0 0 0 0 0 0 0 0\n",
      " 0 0 0 2 0 0 2 2 0 1 2 0 2 0 0 0 0 0 0 0 0 0 0 0 2 2 0 1 1 0 1 0 0 0 0 0 0\n",
      " 0 0 0 0 0 0 0 0 1 0 0 0 0 0 0 0 0 0 0 0 2 0 0 2 2 0 1 2 0 2 0 0 0 0 0 0 0\n",
      " 0 0 0 0 2 2 0 1 1 0 1 0 0 0 0 0 0 0 0 0 0 0 0 0 0 1 0 0 0 0 0 0 0 0 0 0 0\n",
      " 2 0]\n",
      "[0 0 0 0 0 0 0 2 2 0 1 1 0 1 0 0 0 0 0 0 0 0 0 0 0 0 0 0 1 0 0 0 0 0 0 0 0\n",
      " 0 0 0 2 0 0 2 2 0 1 2 0 2 0 0 0 0 0 0 0 0 0 0 0 2 2 0 1 1 0 1 0 0 0 0 0 0\n",
      " 0 0 0 0 0 0 0 0 1 0 0 0 0 0 0 0 0 0 0 0 2 0 0 2 2 0 1 2 0 2 0 0 0 0 0 0 0\n",
      " 0 0 0 0 2 2 0 1 1 0 1 0 0 0 0 0 0 0 0 0 0 0 0 0 0 1 0 0 0 0 0 0 0 0 0 0 0\n",
      " 2 0]\n"
     ]
    }
   ],
   "source": [
    "with open('rl_Intersection_x2_Data.pkl', 'rb') as file:\n",
    "    loaded_data = pickle.load(file)\n",
    "\n",
    "print(loaded_data[0:150])\n",
    "\n",
    "with open('rl_Intersection_x3_Data.pkl', 'rb') as file:\n",
    "    loaded_data1 = pickle.load(file)\n",
    "\n",
    "print(loaded_data1[0:150])\n",
    "\n",
    "with open('rl_Intersection_x4_Data.pkl', 'rb') as file:\n",
    "    loaded_data2 = pickle.load(file)\n",
    "\n",
    "print(loaded_data2[0:150])"
   ]
  },
  {
   "cell_type": "code",
   "execution_count": 23,
   "id": "ef17b185",
   "metadata": {},
   "outputs": [],
   "source": [
    "# with open('rl_Intersection_x3_Data.pkl', 'rb') as file:\n",
    "#     loaded_data = pickle.load(file)\n",
    "\n",
    "# # Access the loaded data\n",
    "# # state_list = loaded_data['states']\n",
    "# # action_list = loaded_data['actions']\n",
    "# # reward_list = loaded_data['rewards']\n",
    "# print(loaded_data)"
   ]
  },
  {
   "cell_type": "code",
   "execution_count": 53,
   "id": "f83b6d01",
   "metadata": {},
   "outputs": [
    {
     "name": "stdout",
     "output_type": "stream",
     "text": [
      "{'X_2': array([1, 2, 3]), 'X_3': array(['Stay', 'walk', 'Run'], dtype='<U4'), 'X_4': array([-1,  0,  1])}\n"
     ]
    }
   ],
   "source": [
    "lst = [[1,2,3],['Stay','walk','Run'],[-1,0,1]]\n",
    "lst_arr = [np.array(x) for x in lst]\n",
    "data = {\n",
    "    'X_2': lst_arr[0],\n",
    "    'X_3': lst_arr[1],\n",
    "    'X_4': lst_arr[2],\n",
    "}\n",
    "# Save the data to a pickle file\n",
    "with open('test.pkl', 'wb') as file:\n",
    "    pickle.dump(data, file)\n",
    "    \n",
    "# Load the data from the pickle file\n",
    "with open('test.pkl', 'rb') as file:\n",
    "    loaded_data = pickle.load(file)\n",
    "\n",
    "# # Access the loaded data\n",
    "# state_list = loaded_data['X_2']\n",
    "# action_list = loaded_data['X_3']\n",
    "# reward_list = loaded_data['X_4']\n",
    "\n",
    "print(loaded_data)"
   ]
  },
  {
   "cell_type": "code",
   "execution_count": 54,
   "id": "337dfb59",
   "metadata": {},
   "outputs": [],
   "source": [
    "import numpy as np\n",
    "\n",
    "# New list\n",
    "lst1 = [[3, 2, 1], ['Run', 'walk', 'Stay'], [1, 0, -1]]\n",
    "lst1_arr = [np.array(x) for x in lst1]\n",
    "\n",
    "# Load the existing data from the pickle file\n",
    "with open('test.pkl', 'rb') as file:\n",
    "    loaded_data = pickle.load(file)\n",
    "\n",
    "# Append the new list to the existing data dictionary\n",
    "loaded_data['X_2'] = np.concatenate((loaded_data['X_2'], lst1_arr[0]))\n",
    "loaded_data['X_3'] = np.concatenate((loaded_data['X_3'], lst1_arr[1]))\n",
    "loaded_data['X_4'] = np.concatenate((loaded_data['X_4'], lst1_arr[2]))\n",
    "\n",
    "# Save the updated data back to the pickle file\n",
    "with open('test.pkl', 'wb') as file:\n",
    "    pickle.dump(loaded_data, file)"
   ]
  },
  {
   "cell_type": "code",
   "execution_count": 55,
   "id": "c3a54115",
   "metadata": {},
   "outputs": [
    {
     "name": "stdout",
     "output_type": "stream",
     "text": [
      "{'X_2': array([1, 2, 3, 3, 2, 1]), 'X_3': array(['Stay', 'walk', 'Run', 'Run', 'walk', 'Stay'], dtype='<U4'), 'X_4': array([-1,  0,  1,  1,  0, -1])}\n"
     ]
    }
   ],
   "source": [
    "# Load the data from the pickle file\n",
    "with open('test.pkl', 'rb') as file:\n",
    "    loaded_data = pickle.load(file)\n",
    "\n",
    "print(loaded_data)"
   ]
  },
  {
   "cell_type": "code",
   "execution_count": null,
   "id": "ab2fb068",
   "metadata": {},
   "outputs": [],
   "source": []
  }
 ],
 "metadata": {
  "kernelspec": {
   "display_name": "Python 3 (ipykernel)",
   "language": "python",
   "name": "python3"
  },
  "language_info": {
   "codemirror_mode": {
    "name": "ipython",
    "version": 3
   },
   "file_extension": ".py",
   "mimetype": "text/x-python",
   "name": "python",
   "nbconvert_exporter": "python",
   "pygments_lexer": "ipython3",
   "version": "3.11.4"
  }
 },
 "nbformat": 4,
 "nbformat_minor": 5
}
